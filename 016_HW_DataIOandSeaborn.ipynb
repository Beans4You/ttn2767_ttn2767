{
 "cells": [
  {
   "cell_type": "markdown",
   "id": "fd235d44",
   "metadata": {},
   "source": [
    "Python Homework: Data Analysis with Pandas and Seaborn\n",
    "Objective:\n",
    "\n",
    "Practice reading, summarizing, and visualizing CSV data using the pandas and seaborn libraries.\n",
    "Practice writing functions\n",
    "Dataset:\n",
    "For this assignment, use the \"Iris\" dataset, a classic dataset in data science and statistics. It contains measurements for 150 iris flowers from three different species.\n",
    "\n",
    "This is by no means a \"behavioral science\" data set, but there are certain classic data sets that every data science student has to touch once, and this is one of them.\n",
    "\n",
    "The dataset is available here Or paste \"https://archive.ics.uci.edu/dataset/53/iris\" into your browser."
   ]
  },
  {
   "cell_type": "code",
   "execution_count": 2,
   "id": "67080bfe",
   "metadata": {},
   "outputs": [],
   "source": [
    "import pandas as pd"
   ]
  },
  {
   "cell_type": "code",
   "execution_count": 20,
   "id": "be385046",
   "metadata": {},
   "outputs": [],
   "source": [
    "myDataFromFile = pd.read_csv(\"iris.csv\")"
   ]
  },
  {
   "cell_type": "markdown",
   "id": "97829b04",
   "metadata": {},
   "source": [
    "Reading the Dataset:\n",
    "\n",
    "Use pandas to read the Iris dataset into a data frame.\n",
    "The dataset does not contain headers. Assign the following column names to your data frame: ['sepal_length', 'sepal_width', 'petal_length', 'petal_width', 'species']\n",
    "Data Summarization:\n",
    "\n",
    "Compute the following summary statistics for each of the numerical columns (sepal_length, sepal_width, petal_length, petal_width):\n",
    "Mean\n",
    "Median\n",
    "Standard Deviation\n",
    "Write these summary statistics to a new CSV file named iris_summary.csv."
   ]
  },
  {
   "cell_type": "code",
   "execution_count": 10,
   "id": "09c991bb",
   "metadata": {},
   "outputs": [],
   "source": [
    "\n",
    "\n"
   ]
  },
  {
   "cell_type": "code",
   "execution_count": null,
   "id": "6451a7a8",
   "metadata": {},
   "outputs": [],
   "source": []
  }
 ],
 "metadata": {
  "kernelspec": {
   "display_name": "Python 3 (ipykernel)",
   "language": "python",
   "name": "python3"
  },
  "language_info": {
   "codemirror_mode": {
    "name": "ipython",
    "version": 3
   },
   "file_extension": ".py",
   "mimetype": "text/x-python",
   "name": "python",
   "nbconvert_exporter": "python",
   "pygments_lexer": "ipython3",
   "version": "3.11.4"
  }
 },
 "nbformat": 4,
 "nbformat_minor": 5
}
