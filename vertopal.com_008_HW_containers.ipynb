{
 "cells": [
  {
   "cell_type": "markdown",
   "id": "85c6c591",
   "metadata": {},
   "source": [
    "#### 1. Indexing Strings:\n",
    "\n",
    "Given the string `s = \"PYTHON\"`, retrieve and print the following:\n",
    "\n",
    "1.  The first character  \n",
    "2.  The last character  \n",
    "3.  The string “H”  \n",
    "4.  The `type` of “H”"
   ]
  },
  {
   "cell_type": "code",
   "execution_count": 11,
   "id": "1f917f47",
   "metadata": {},
   "outputs": [
    {
     "name": "stdout",
     "output_type": "stream",
     "text": [
      "P\n",
      "N\n",
      "H\n"
     ]
    }
   ],
   "source": [
    "s = 'PYTHON'\n",
    "first_letter = s[0]\n",
    "print(first_letter)\n",
    "last_letter = s[5]\n",
    "print(last_letter)\n",
    "third_letter = s[3]\n",
    "print(third_letter)"
   ]
  },
  {
   "cell_type": "markdown",
   "id": "1c47392e",
   "metadata": {},
   "source": [
    "#### 2. Indexing Tuples:\n",
    "\n",
    "Given the tuple `t = (10, 20, 30, 40, 50, 60)`, retrieve and print the\n",
    "following:\n",
    "\n",
    "1.  The first element  \n",
    "2.  The third element\n",
    "3.  (Try to) Set the 3rd element to `30.4`"
   ]
  },
  {
   "cell_type": "code",
   "execution_count": 14,
   "id": "1e36e323",
   "metadata": {
    "scrolled": false
   },
   "outputs": [
    {
     "ename": "TypeError",
     "evalue": "'tuple' object does not support item assignment",
     "output_type": "error",
     "traceback": [
      "\u001b[0;31m---------------------------------------------------------------------------\u001b[0m",
      "\u001b[0;31mTypeError\u001b[0m                                 Traceback (most recent call last)",
      "Cell \u001b[0;32mIn[14], line 4\u001b[0m\n\u001b[1;32m      2\u001b[0m first_element \u001b[38;5;241m=\u001b[39m s[\u001b[38;5;241m0\u001b[39m]\n\u001b[1;32m      3\u001b[0m last_element \u001b[38;5;241m=\u001b[39m s[\u001b[38;5;241m5\u001b[39m]\n\u001b[0;32m----> 4\u001b[0m t[\u001b[38;5;241m2\u001b[39m] \u001b[38;5;241m=\u001b[39m \u001b[38;5;241m30.4\u001b[39m\n",
      "\u001b[0;31mTypeError\u001b[0m: 'tuple' object does not support item assignment"
     ]
    }
   ],
   "source": [
    "t = (10, 20, 30, 40, 50, 60)\n",
    "first_element = s[0]\n",
    "last_element = s[5]\n",
    "# t[2] = 30.4 (casues a typeError)\n",
    "print(first_element)\n",
    "print(last_element)"
   ]
  },
  {
   "cell_type": "markdown",
   "id": "9ffe1c1a",
   "metadata": {},
   "source": [
    "#### 3. Indexing Lists and Lists of Lists:\n",
    "\n",
    "Given the list `lst = [5, 15, 25, [35, 45, [55, 65, 75], 85], 95]`,\n",
    "retrieve and print the following:\n",
    "\n",
    "1.  The first element  \n",
    "2.  The last element  \n",
    "3.  The sublist `[55, 65, 75]`\n",
    "4.  The number `65`\n"
   ]
  },
  {
   "cell_type": "code",
   "execution_count": 17,
   "id": "95590c45",
   "metadata": {
    "scrolled": true
   },
   "outputs": [
    {
     "name": "stdout",
     "output_type": "stream",
     "text": [
      "P\n",
      "N\n",
      "[55, 65, 75]\n",
      "65\n"
     ]
    }
   ],
   "source": [
    "lst = [5, 15, 25, [35, 45, [55, 65, 75], 85], 95]\n",
    "first_e = s[0]\n",
    "print(first_e)\n",
    "last_e = s[-1]\n",
    "print(last_e)\n",
    "sublist = lst[3][2]\n",
    "print(sublist)\n",
    "six_five = lst[3][2][1]\n",
    "print(six_five)"
   ]
  },
  {
   "cell_type": "markdown",
   "id": "022b88fa",
   "metadata": {},
   "source": [
    "#### 4. Lists of Lists as Arrays:\n",
    "\n",
    "Consider a 3x3 matrix represented as a list of lists:\n",
    "\n",
    "``` python\n",
    "matrix = [\n",
    "    [1, 2, 3],\n",
    "    [4, 5, 6],\n",
    "    [7, 8, 9]\n",
    "]\n",
    "```\n",
    "\n",
    "1.  Retrieve the second row.  \n",
    "2.  Retrieve the third column.  \n",
    "3.  Change the center element to 0 and print the modified matrix."
   ]
  },
  {
   "cell_type": "code",
   "execution_count": 26,
   "id": "de2aea21",
   "metadata": {},
   "outputs": [
    {
     "name": "stdout",
     "output_type": "stream",
     "text": [
      "[4, 5, 6]\n",
      "[3, 6, 9]\n",
      "[1, 2, 3]\n",
      "[4, 0, 6]\n",
      "[7, 8, 9]\n"
     ]
    }
   ],
   "source": [
    "matrix = [\n",
    "    [1, 2, 3],\n",
    "    [4, 5, 6],\n",
    "    [7, 8, 9]\n",
    "]\n",
    "second_row = matrix[1]\n",
    "print(second_row)\n",
    "third_col = [row[2] for row in matrix]\n",
    "print(third_col)\n",
    "matrix[1][1] = 0\n",
    "for row in matrix:\n",
    "    print(row)"
   ]
  },
  {
   "cell_type": "markdown",
   "id": "baca7e67",
   "metadata": {},
   "source": [
    "#### 5. Using Sets:\n",
    "\n",
    "Given two lists `A = [1, 2, 2, 3, 4, 4, 5]` and\n",
    "`B = [4, 5, 5, 6, 7, 7,  8]`:\n",
    "\n",
    "1.  Create sets from both lists.  \n",
    "2.  Find the union of the two sets.  \n",
    "3.  Find the intersection of the two sets.  \n",
    "4.  Find the elements that are in A but not in B.\n",
    "5.  Find the elements that are in A or B but not both.\n"
   ]
  },
  {
   "cell_type": "code",
   "execution_count": 30,
   "id": "eafa25dd",
   "metadata": {},
   "outputs": [
    {
     "name": "stdout",
     "output_type": "stream",
     "text": [
      "{1, 2, 3, 4, 5, 6, 7, 8}\n",
      "{4, 5}\n",
      "{1, 2, 3}\n",
      "{1, 2, 3, 6, 7, 8}\n"
     ]
    }
   ],
   "source": [
    "A = [1, 2, 2, 3, 4, 4, 5] \n",
    "B = [4, 5, 5, 6, 7, 7, 8]\n",
    "\n",
    "set_A = set(A)\n",
    "set_B = set(B)\n",
    "\n",
    "union = set_A.union(set_B)\n",
    "intersection = set_A.intersection(set_B)\n",
    "not_B = set_A.difference(set_B)\n",
    "A_or_B = set_A.symmetric_difference(set_B)\n",
    "\n",
    "print(union)\n",
    "print(intersection)\n",
    "print(not_B)\n",
    "print(A_or_B)\n",
    "\n"
   ]
  },
  {
   "cell_type": "markdown",
   "id": "17333be8",
   "metadata": {},
   "source": [
    "#### 6. Working with Dictionaries:\n",
    "\n",
    "Consider the following dictionary that represents the stock of items in\n",
    "a store:\n",
    "\n",
    "``` python\n",
    "stock = {\n",
    "    \"apple\": 50,\n",
    "    \"banana\": 25,\n",
    "    \"orange\": 30,\n",
    "    \"grape\": 45\n",
    "}\n",
    "```\n",
    "\n",
    "1.  Retrieve the stock of `apple`.  \n",
    "2.  Add a new fruit, `pear`, with a stock of 40.  \n",
    "3.  Update the stock of `banana` to 30.  \n",
    "4.  Remove `orange` from the stock.\n"
   ]
  },
  {
   "cell_type": "code",
   "execution_count": 34,
   "id": "6d01f1ba",
   "metadata": {},
   "outputs": [
    {
     "name": "stdout",
     "output_type": "stream",
     "text": [
      "50\n",
      "{'apple': 50, 'banana': 25, 'orange': 30, 'grape': 45, 'pear': 40}\n",
      "{'apple': 50, 'banana': 30, 'orange': 30, 'grape': 45, 'pear': 40}\n",
      "{'apple': 50, 'banana': 30, 'grape': 45, 'pear': 40}\n"
     ]
    }
   ],
   "source": [
    "stock = {\n",
    "    \"apple\": 50,\n",
    "    \"banana\": 25,\n",
    "    \"orange\": 30,\n",
    "    \"grape\": 45\n",
    "}\n",
    "\n",
    "get_stock = stock.get('apple')\n",
    "print(get_stock)\n",
    "stock['pear'] = 40\n",
    "print(stock)\n",
    "stock['banana'] = 30\n",
    "print(stock)\n",
    "if 'orange' in stock: \n",
    "    del stock['orange']\n",
    "print(stock)"
   ]
  },
  {
   "cell_type": "code",
   "execution_count": null,
   "id": "0222fb4c",
   "metadata": {},
   "outputs": [],
   "source": []
  }
 ],
 "metadata": {
  "kernelspec": {
   "display_name": "Python 3 (ipykernel)",
   "language": "python",
   "name": "python3"
  },
  "language_info": {
   "codemirror_mode": {
    "name": "ipython",
    "version": 3
   },
   "file_extension": ".py",
   "mimetype": "text/x-python",
   "name": "python",
   "nbconvert_exporter": "python",
   "pygments_lexer": "ipython3",
   "version": "3.11.4"
  }
 },
 "nbformat": 4,
 "nbformat_minor": 5
}
