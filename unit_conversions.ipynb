{
 "cells": [
  {
   "cell_type": "code",
   "execution_count": null,
   "id": "4e259386",
   "metadata": {},
   "outputs": [],
   "source": [
    "def miles_to_km(miles):\n",
    "    kilometers = miles * 1.60934\n",
    "    return(kilometers)\n",
    "\n",
    "def km_to_miles(kilometer):\n",
    "    miles = kilometer * 0.621371\n",
    "    return(miles)\n",
    "\n",
    "def kilo_to_pound(kilograms):\n",
    "    pound = kilograms * 2.20462262185\n",
    "    return(pound)\n",
    "\n",
    "def pound_to_kilo(pound):\n",
    "    kilogram = pound * 2.20462262185\n",
    "    return(kilogram)\n",
    "\n",
    "def fahren_to_cel(fahrenheit):\n",
    "    celsius = (fahrenheit - 32) * 5 / 9\n",
    "    return(celsius)\n",
    "\n",
    "def cel_to_fahren(celcius):\n",
    "    fahrenheit =(celsius * 9/5) + 32\n",
    "    return(fahrenheit)"
   ]
  }
 ],
 "metadata": {
  "kernelspec": {
   "display_name": "Python 3 (ipykernel)",
   "language": "python",
   "name": "python3"
  },
  "language_info": {
   "codemirror_mode": {
    "name": "ipython",
    "version": 3
   },
   "file_extension": ".py",
   "mimetype": "text/x-python",
   "name": "python",
   "nbconvert_exporter": "python",
   "pygments_lexer": "ipython3",
   "version": "3.11.4"
  }
 },
 "nbformat": 4,
 "nbformat_minor": 5
}
