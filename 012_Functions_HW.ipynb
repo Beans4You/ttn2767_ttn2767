{
 "cells": [
  {
   "cell_type": "code",
   "execution_count": 1,
   "id": "5e2d3c28",
   "metadata": {},
   "outputs": [
    {
     "name": "stdout",
     "output_type": "stream",
     "text": [
      "203.0\n"
     ]
    }
   ],
   "source": [
    "import Unit_Conversion\n",
    "def main():\n",
    "    celsius = 95\n",
    "    fahrenheit = Unit_Conversion.cel_to_fahren(celsius)\n",
    "    return(fahrenheit)\n",
    "result = main()\n",
    "print(result)"
   ]
  },
  {
   "cell_type": "code",
   "execution_count": 2,
   "id": "fb126b34",
   "metadata": {},
   "outputs": [
    {
     "name": "stdout",
     "output_type": "stream",
     "text": [
      "62.77777777777778\n"
     ]
    }
   ],
   "source": [
    "def main():\n",
    "    fahren = 145\n",
    "    celsius = Unit_Conversion.fahren_to_cel(fahren)\n",
    "    return(celsius)\n",
    "result = main()\n",
    "print(result)"
   ]
  },
  {
   "cell_type": "code",
   "execution_count": 3,
   "id": "5af4a98f",
   "metadata": {},
   "outputs": [
    {
     "name": "stdout",
     "output_type": "stream",
     "text": [
      "13.227735731100001\n"
     ]
    }
   ],
   "source": [
    "def main():\n",
    "    pound = 6\n",
    "    kilograms = Unit_Conversion.pound_to_kilo(pound)\n",
    "    return kilograms\n",
    "result = main()\n",
    "print(result)"
   ]
  },
  {
   "cell_type": "code",
   "execution_count": 4,
   "id": "48317f8a",
   "metadata": {},
   "outputs": [
    {
     "name": "stdout",
     "output_type": "stream",
     "text": [
      "55.115565546250004\n"
     ]
    }
   ],
   "source": [
    "def main():\n",
    "    kilograms = 25\n",
    "    pound = Unit_Conversion.kilo_to_pound(kilograms)\n",
    "    return pound\n",
    "result = main()\n",
    "print(result)"
   ]
  },
  {
   "cell_type": "code",
   "execution_count": 12,
   "id": "642ffae2",
   "metadata": {},
   "outputs": [
    {
     "name": "stdout",
     "output_type": "stream",
     "text": [
      "12.42742\n"
     ]
    }
   ],
   "source": [
    "def main():\n",
    "    kilometer = 20\n",
    "    miles = Unit_Conversion.km_to_miles(kilometer)\n",
    "    return miles\n",
    "result = main()\n",
    "print(result)\n"
   ]
  },
  {
   "cell_type": "code",
   "execution_count": 11,
   "id": "3397b8de",
   "metadata": {},
   "outputs": [
    {
     "name": "stdout",
     "output_type": "stream",
     "text": [
      "1.60934\n"
     ]
    }
   ],
   "source": [
    "def main():\n",
    "    miles = 1\n",
    "    kilometers = Unit_Conversion.miles_to_km(miles)\n",
    "    return kilometers\n",
    "result = main()\n",
    "print(result)\n"
   ]
  },
  {
   "cell_type": "code",
   "execution_count": null,
   "id": "c2463a42",
   "metadata": {},
   "outputs": [],
   "source": []
  }
 ],
 "metadata": {
  "kernelspec": {
   "display_name": "Python 3 (ipykernel)",
   "language": "python",
   "name": "python3"
  },
  "language_info": {
   "codemirror_mode": {
    "name": "ipython",
    "version": 3
   },
   "file_extension": ".py",
   "mimetype": "text/x-python",
   "name": "python",
   "nbconvert_exporter": "python",
   "pygments_lexer": "ipython3",
   "version": "3.11.4"
  }
 },
 "nbformat": 4,
 "nbformat_minor": 5
}
