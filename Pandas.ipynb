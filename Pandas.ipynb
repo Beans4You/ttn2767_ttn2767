{
 "cells": [
  {
   "cell_type": "markdown",
   "id": "46e39cc7",
   "metadata": {},
   "source": [
    "Create a Series:\n",
    "\n",
    "Create a Series named fruits with the data: 'apple', 'banana', 'cherry', 'date', and assign it an index of 'a', 'b', 'c', 'd' respectively.\n",
    "Print the Series.\n",
    "Print the Index of the series.\n",
    "\n",
    "Accessing Elements:\n",
    "Print the second (\"b\") element of the fruits Series."
   ]
  },
  {
   "cell_type": "code",
   "execution_count": 6,
   "id": "fe777dab",
   "metadata": {},
   "outputs": [],
   "source": [
    "import pandas as pd\n"
   ]
  },
  {
   "cell_type": "code",
   "execution_count": 14,
   "id": "7e2dafb4",
   "metadata": {},
   "outputs": [
    {
     "name": "stdout",
     "output_type": "stream",
     "text": [
      "series: \n",
      "a     apple\n",
      "b    banana\n",
      "c    cherry\n",
      "d      date\n",
      "dtype: object\n"
     ]
    }
   ],
   "source": [
    "fruit = pd.Series([\"apple\", \"banana\", \"cherry\",\"date\"], index=[\"a\", \"b\", \"c\", \"d\"])\n",
    "print(\"series: \")\n",
    "print(fruit)"
   ]
  },
  {
   "cell_type": "code",
   "execution_count": 17,
   "id": "a764fa00",
   "metadata": {},
   "outputs": [
    {
     "name": "stdout",
     "output_type": "stream",
     "text": [
      "Index(['a', 'b', 'c', 'd'], dtype='object')\n"
     ]
    }
   ],
   "source": [
    "print(fruit.index)"
   ]
  },
  {
   "cell_type": "code",
   "execution_count": 18,
   "id": "dbc8c6e7",
   "metadata": {},
   "outputs": [
    {
     "name": "stdout",
     "output_type": "stream",
     "text": [
      "banana\n"
     ]
    }
   ],
   "source": [
    "print(fruit[\"b\"])"
   ]
  },
  {
   "cell_type": "markdown",
   "id": "fc19f37e",
   "metadata": {},
   "source": [
    "Series Operations:\n",
    "\n",
    "Create a Series with the squares of the numbers 1 through 5.\n",
    "Add 10 to each item in the series (hint: there a method to this madness)."
   ]
  },
  {
   "cell_type": "code",
   "execution_count": 20,
   "id": "437aa06f",
   "metadata": {},
   "outputs": [
    {
     "name": "stdout",
     "output_type": "stream",
     "text": [
      "0    11\n",
      "1    14\n",
      "2    19\n",
      "3    26\n",
      "4    35\n",
      "dtype: int64\n"
     ]
    }
   ],
   "source": [
    "squares = pd.Series([1, 4, 9, 16, 25])\n",
    "plus_ten = squares + 10\n",
    "print(plus_ten)"
   ]
  },
  {
   "cell_type": "markdown",
   "id": "ebf40371",
   "metadata": {},
   "source": [
    "Create a DataFrame:\n",
    "\n",
    "Create a DataFrame named students with the columns: 'Name', 'Age', 'Grade'.\n",
    "Populate it with data for three fictional students."
   ]
  },
  {
   "cell_type": "code",
   "execution_count": 22,
   "id": "03e24ef1",
   "metadata": {},
   "outputs": [],
   "source": [
    "student = {\"Name\": [\"Tu\", \"Dylan\", \"Kush\"],\n",
    "           \"Age\": [22, 22, 22],\n",
    "           \"Grade\": [\"A\", \"D\", \"A\"]}\n",
    "student = pd.DataFrame(student)"
   ]
  },
  {
   "cell_type": "markdown",
   "id": "9572ad44",
   "metadata": {},
   "source": [
    "Accessing Data:\n",
    "Print the Name column of the students DataFrame.\n",
    "\n",
    "DataFrame Operations:\n",
    "Add a new column to the students DataFrame named Graduated, which should be True if the student's grade is 'A' and False otherwise.\n",
    "Print the updated DataFrame."
   ]
  },
  {
   "cell_type": "code",
   "execution_count": 23,
   "id": "65fd3822",
   "metadata": {},
   "outputs": [
    {
     "name": "stdout",
     "output_type": "stream",
     "text": [
      "0       Tu\n",
      "1    Dylan\n",
      "2     Kush\n",
      "Name: Name, dtype: object\n"
     ]
    }
   ],
   "source": [
    "print(student[\"Name\"])"
   ]
  },
  {
   "cell_type": "code",
   "execution_count": 24,
   "id": "51260d37",
   "metadata": {},
   "outputs": [
    {
     "name": "stdout",
     "output_type": "stream",
     "text": [
      "    Name  Age Grade  Graduated\n",
      "0     Tu   22     A       True\n",
      "1  Dylan   22     D      False\n",
      "2   Kush   22     A       True\n"
     ]
    }
   ],
   "source": [
    "student[\"Graduated\"] = student[\"Grade\"] == \"A\"\n",
    "print(student)"
   ]
  },
  {
   "cell_type": "markdown",
   "id": "2df43a39",
   "metadata": {},
   "source": [
    "Maths:\n",
    "Calculate and print the average age of the students.\n",
    "\n",
    "Sorting:\n",
    "Sort the students DataFrame based on the Age column in descending order and print it.\n",
    "\n",
    "Tidy Data.\n",
    "Re-make the cognitive health data frame from class so it is \"tidy\", with each column as variable and each row an observation.\n",
    "\n",
    "Compute the mean and standard deviation of all variables.\n",
    "\n",
    "Compute the mean and standard error for the happiness variable (there might even be a method for computing standard error...)."
   ]
  },
  {
   "cell_type": "code",
   "execution_count": 25,
   "id": "ebadf2e4",
   "metadata": {},
   "outputs": [
    {
     "name": "stdout",
     "output_type": "stream",
     "text": [
      "22.0\n"
     ]
    }
   ],
   "source": [
    "average_age = student[\"Age\"].mean()\n",
    "print(average_age)"
   ]
  },
  {
   "cell_type": "code",
   "execution_count": 26,
   "id": "881ae08d",
   "metadata": {},
   "outputs": [
    {
     "name": "stdout",
     "output_type": "stream",
     "text": [
      "    Name  Age Grade  Graduated\n",
      "0     Tu   22     A       True\n",
      "1  Dylan   22     D      False\n",
      "2   Kush   22     A       True\n"
     ]
    }
   ],
   "source": [
    "sorted = student.sort_values(by=\"Age\", ascending=False)\n",
    "print(sorted)"
   ]
  },
  {
   "cell_type": "code",
   "execution_count": 21,
   "id": "81c9d60f",
   "metadata": {},
   "outputs": [],
   "source": [
    "import pandas as pd\n",
    "\n",
    "data_cogHealth = {\n",
    "    \"happyness\":[10],\n",
    "    \"language\":[2],\n",
    "    \"energy\":[5], \n",
    "    \"memory\":[3]\n",
    "}"
   ]
  },
  {
   "cell_type": "code",
   "execution_count": 22,
   "id": "93d1d801",
   "metadata": {},
   "outputs": [],
   "source": [
    "cognitive_health_df = pd.DataFrame.from_dict(cognitive_health, orient='index', columns=['Value'])"
   ]
  },
  {
   "cell_type": "code",
   "execution_count": 23,
   "id": "c4d912e4",
   "metadata": {},
   "outputs": [
    {
     "name": "stdout",
     "output_type": "stream",
     "text": [
      "Value    5.0\n",
      "dtype: float64\n",
      "Value    3.559026\n",
      "dtype: float64\n"
     ]
    }
   ],
   "source": [
    "mean_val = cognitive_health_df.mean()\n",
    "std_val = cognitive_health_df.std()\n",
    "print(mean_val)\n",
    "print(std_val)"
   ]
  },
  {
   "cell_type": "code",
   "execution_count": 24,
   "id": "ea2ad130",
   "metadata": {},
   "outputs": [
    {
     "name": "stdout",
     "output_type": "stream",
     "text": [
      "10\n",
      "2.5\n"
     ]
    }
   ],
   "source": [
    "mean_happiness = cognitive_health_df.loc[\"happyness\", \"Value\"]\n",
    "print(mean_happiness)\n",
    "std_happyness = cognitive_health_df.loc[\"happyness\", \"Value\"] / len(cognitive_health_df)\n",
    "print(std_happyness)"
   ]
  },
  {
   "cell_type": "code",
   "execution_count": null,
   "id": "030d3369",
   "metadata": {},
   "outputs": [],
   "source": []
  }
 ],
 "metadata": {
  "kernelspec": {
   "display_name": "Python 3 (ipykernel)",
   "language": "python",
   "name": "python3"
  },
  "language_info": {
   "codemirror_mode": {
    "name": "ipython",
    "version": 3
   },
   "file_extension": ".py",
   "mimetype": "text/x-python",
   "name": "python",
   "nbconvert_exporter": "python",
   "pygments_lexer": "ipython3",
   "version": "3.11.4"
  }
 },
 "nbformat": 4,
 "nbformat_minor": 5
}
