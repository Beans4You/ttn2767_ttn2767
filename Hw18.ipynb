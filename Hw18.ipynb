{
 "cells": [
  {
   "cell_type": "markdown",
   "id": "a2e4861b",
   "metadata": {},
   "source": [
    "Write a function to convert the data file \"018_HW_2x2_data.csv\" from wide to \"tidy\" long format. Your function can assume that the input data consist of 4 columns (like our rat data), but should handle any number of rows (i.e. number of observations per cell).\n",
    "Test your function on the file \"018_HW_2x2_data2.csv\"."
   ]
  },
  {
   "cell_type": "code",
   "execution_count": 54,
   "id": "6bea135f",
   "metadata": {},
   "outputs": [],
   "source": [
    "import pandas as pd\n",
    "import numpy as np"
   ]
  },
  {
   "cell_type": "code",
   "execution_count": 55,
   "id": "48ba95e7",
   "metadata": {},
   "outputs": [
    {
     "name": "stdout",
     "output_type": "stream",
     "text": [
      "    Value             Variable  Group\n",
      "0      10  Condition_A_Level_1      1\n",
      "1      15  Condition_A_Level_2      1\n",
      "2      20  Condition_B_Level_1      1\n",
      "3      25  Condition_B_Level_2      1\n",
      "4      30  Condition_A_Level_1      1\n",
      "5      35  Condition_A_Level_2      1\n",
      "6      20  Condition_B_Level_1      2\n",
      "7      25  Condition_B_Level_2      2\n",
      "8      30  Condition_A_Level_1      2\n",
      "9      35  Condition_A_Level_2      2\n",
      "10     40  Condition_B_Level_1      2\n",
      "11     45  Condition_B_Level_2      2\n",
      "12     30  Condition_A_Level_1      3\n",
      "13     35  Condition_A_Level_2      3\n",
      "14     40  Condition_B_Level_1      3\n",
      "15     45  Condition_B_Level_2      3\n",
      "16     50  Condition_A_Level_1      3\n",
      "17     55  Condition_A_Level_2      3\n",
      "18     40  Condition_B_Level_1      4\n",
      "19     45  Condition_B_Level_2      4\n",
      "20     50  Condition_A_Level_1      4\n",
      "21     55  Condition_A_Level_2      4\n",
      "22     60  Condition_B_Level_1      4\n",
      "23     65  Condition_B_Level_2      4\n"
     ]
    }
   ],
   "source": [
    "def convert_to_tidy(input_file):\n",
    "    my_input_data = pd.read_csv(input_file)  \n",
    "    raw_data = my_input_data.to_numpy()  \n",
    "\n",
    "    obs, grps = raw_data.shape  \n",
    "    new_length = obs * grps  \n",
    "\n",
    "    values_col = np.reshape(raw_data, (new_length, 1), order='F')  \n",
    "    values_col = np.squeeze(values_col) \n",
    "\n",
    "    variables = list(my_input_data.columns)  \n",
    "    variable_values = np.tile(variables, obs)  \n",
    "    groups = np.repeat(np.arange(1, grps + 1), obs)  \n",
    "\n",
    "    my_new_tidy_data = pd.DataFrame(\n",
    "        {\n",
    "            \"Value\": values_col,  \n",
    "            \"Variable\": variable_values, \n",
    "            \"Group\": groups  \n",
    "        }\n",
    "    )\n",
    "\n",
    "    return my_new_tidy_data\n",
    "\n",
    "\n",
    "# Test the function on the given file\n",
    "data_tidy = convert_to_tidy('018_HW_2x2_data2.csv')\n",
    "print(data_tidy)"
   ]
  },
  {
   "cell_type": "code",
   "execution_count": null,
   "id": "c2111fcc",
   "metadata": {},
   "outputs": [],
   "source": []
  }
 ],
 "metadata": {
  "kernelspec": {
   "display_name": "Python 3 (ipykernel)",
   "language": "python",
   "name": "python3"
  },
  "language_info": {
   "codemirror_mode": {
    "name": "ipython",
    "version": 3
   },
   "file_extension": ".py",
   "mimetype": "text/x-python",
   "name": "python",
   "nbconvert_exporter": "python",
   "pygments_lexer": "ipython3",
   "version": "3.11.4"
  }
 },
 "nbformat": 4,
 "nbformat_minor": 5
}
