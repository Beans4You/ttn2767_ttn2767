{
 "cells": [
  {
   "cell_type": "markdown",
   "id": "a677aa22",
   "metadata": {},
   "source": [
    "# This is a test tutorial used to practice the class workflow\n",
    "\n",
    "You are asked to add your information below:\n",
    "\n",
    "Name: \n",
    "Surname:\n",
    "EID:\n",
    "Favorite animal:\n",
    "Favorite non living thing:\n"
   ]
  },
  {
   "cell_type": "code",
   "execution_count": 1,
   "id": "d88180bd",
   "metadata": {},
   "outputs": [
    {
     "name": "stdout",
     "output_type": "stream",
     "text": [
      "Tu Ngo ttn2767 Cows Internet\n"
     ]
    }
   ],
   "source": [
    "print('Tu Ngo ttn2767 Cows Internet')"
   ]
  },
  {
   "cell_type": "code",
   "execution_count": null,
   "id": "4269437f",
   "metadata": {},
   "outputs": [],
   "source": []
  }
 ],
 "metadata": {
  "kernelspec": {
   "display_name": "Python 3 (ipykernel)",
   "language": "python",
   "name": "python3"
  },
  "language_info": {
   "codemirror_mode": {
    "name": "ipython",
    "version": 3
   },
   "file_extension": ".py",
   "mimetype": "text/x-python",
   "name": "python",
   "nbconvert_exporter": "python",
   "pygments_lexer": "ipython3",
   "version": "3.11.4"
  }
 },
 "nbformat": 4,
 "nbformat_minor": 5
}
