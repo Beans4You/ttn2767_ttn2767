{
 "cells": [
  {
   "cell_type": "markdown",
   "id": "67543821",
   "metadata": {},
   "source": [
    "0. Logic:\n",
    "\n",
    "Write some code that determines whether either of the letters in test_strs = [“y”, “o”] are in the string comp_str = “Hello World!”."
   ]
  },
  {
   "cell_type": "code",
   "execution_count": 2,
   "id": "037543c7",
   "metadata": {},
   "outputs": [
    {
     "name": "stdout",
     "output_type": "stream",
     "text": [
      "Yes they Are\n"
     ]
    }
   ],
   "source": [
    "test_strs = ['y', 'o']\n",
    "comp_str = \"Hello World!\"\n",
    "if any (letter in comp_str for letter in test_strs):\n",
    "    print('Yes they Are')\n",
    "else:\n",
    "    print(\"No they don't\")\n"
   ]
  },
  {
   "cell_type": "markdown",
   "id": "fa6ddddd",
   "metadata": {},
   "source": [
    "1. Age Category:\n",
    "\n",
    "Write a program that:\n",
    "\n",
    "a) Asks the user to input their age.\n",
    "b) Based on the age, classifies them into one of the following categories:\n",
    "\n",
    "Infant (0-2 years)\n",
    "Child (3-12 years)\n",
    "Teenager (13-19 years)\n",
    "Adult (20-64 years)\n",
    "Senior (65 years and above)\n",
    "Hint: Use the if-elif-else structure."
   ]
  },
  {
   "cell_type": "code",
   "execution_count": 13,
   "id": "a50b13a4",
   "metadata": {},
   "outputs": [
    {
     "name": "stdout",
     "output_type": "stream",
     "text": [
      "Enter your age: 100\n",
      "You are a senior\n"
     ]
    }
   ],
   "source": [
    "age = int(input(\"Enter your age: \"))\n",
    "\n",
    "if 0 <= age <= 2:\n",
    "    category = 'Infant'\n",
    "elif 3 <= age <= 12:\n",
    "    category = 'Child'\n",
    "elif 13 <= age <= 19:\n",
    "    category = 'Teenager'\n",
    "elif 20 <= age <= 64:\n",
    "    category = 'Adult'\n",
    "else:\n",
    "    category = \"senior\"\n",
    "\n",
    "print(\"You are a\", category)"
   ]
  },
  {
   "cell_type": "markdown",
   "id": "09df3193",
   "metadata": {},
   "source": [
    "2. Number Classifier:\n",
    "\n",
    "Ask the user to input a number. Write a program to:\n",
    "\n",
    "a) Check if the number is positive, negative, or zero.\n",
    "b) Check if the number is even or odd.\n",
    "\n",
    "Sample output: “Your number, 42, is positive and even.\"\n"
   ]
  },
  {
   "cell_type": "code",
   "execution_count": 18,
   "id": "fb4b2897",
   "metadata": {},
   "outputs": [
    {
     "name": "stdout",
     "output_type": "stream",
     "text": [
      "Enter a number: 12\n",
      "Your number, 12 is positive and even\n"
     ]
    }
   ],
   "source": [
    "value = int(input(\"Enter a number: \"))\n",
    "\n",
    "if value > 0: \n",
    "    bean = \"positive\"\n",
    "elif value < 0: \n",
    "    bean = \"negative\"\n",
    "elif value == 0:\n",
    "    bean = \"zero\"\n",
    "    \n",
    "if value % 2 == 0:\n",
    "    sign = 'even'\n",
    "else:\n",
    "    sign = 'odd'\n",
    "    \n",
    "print(\"Your number,\", value, \"is\", bean, \"and\", sign)"
   ]
  },
  {
   "cell_type": "markdown",
   "id": "e23644d5",
   "metadata": {},
   "source": [
    "3. Simple Calculator:\n",
    "\n",
    "Design a calculator that can perform addition, subtraction, multiplication, and division. The program should:\n",
    "\n",
    "a) Ask the user to input two numbers.\n",
    "b) Ask the user to select an operation.\n",
    "c) Perform the selected operation on the two numbers and display the result.\n",
    "\n",
    "Make sure to handle invalid operations with an appropriate error message."
   ]
  },
  {
   "cell_type": "code",
   "execution_count": 36,
   "id": "b90b592b",
   "metadata": {},
   "outputs": [
    {
     "name": "stdout",
     "output_type": "stream",
     "text": [
      "Enter number: 2\n",
      "Enter number: 2\n",
      "select operation: \n",
      "1. Addition (+)\n",
      "2. Subtraction (-)\n",
      "3. Multiplication (*)\n",
      "4. Division (/)\n",
      "enter operation 1, 2, 3, 4: 1\n",
      "Result:  4\n"
     ]
    }
   ],
   "source": [
    "Num1 = int(input(\"Enter number: \"))\n",
    "Num2 = int(input(\"Enter number: \"))\n",
    "\n",
    "print(\"select operation: \")\n",
    "print(\"1. Addition (+)\")\n",
    "print(\"2. Subtraction (-)\")\n",
    "print(\"3. Multiplication (*)\")\n",
    "print(\"4. Division (/)\")\n",
    "\n",
    "choice = input(\"enter operation 1, 2, 3, 4: \")\n",
    "\n",
    "if choice == '1':\n",
    "    ans = Num1 + Num2\n",
    "    print(\"Result: \",ans)\n",
    "elif choice == '2':\n",
    "    ans = Num1 - Num2\n",
    "    print(\"Result: \",ans)\n",
    "elif choice == '3':\n",
    "    ans = Num1 * Num2\n",
    "    print(\"Result: \",ans)\n",
    "elif choice == '4':\n",
    "    if Num2 == 0:\n",
    "        print('Error, cannot divide by zero')\n",
    "    else:\n",
    "        ans = Num1 / Num2\n",
    "        print(\"Result: \",ans)"
   ]
  },
  {
   "cell_type": "markdown",
   "id": "07bf5dd5",
   "metadata": {},
   "source": [
    "4. Guessing Game:\n",
    "\n",
    "a) The program should produce a random answer between 1 and 10.\n",
    "\n",
    "- use `import random` (we only have to do this once, at the top of the program)\n",
    "- then `answer = random.randint()` to get the random answer\n",
    "b) Ask the user to guess the number.\n",
    "c) Provide hints like \"Too High\" or \"Too Low\" based on the user's guess.\n",
    "d) The user should have some maximum number of attempts.\n",
    "e) After the maximum number of incorrect attempts or if the user guesses correctly, reveal the correct number."
   ]
  },
  {
   "cell_type": "code",
   "execution_count": 81,
   "id": "f3e737eb",
   "metadata": {},
   "outputs": [
    {
     "name": "stdout",
     "output_type": "stream",
     "text": [
      "Enter a guess between 1 and 10, within 5 tries: 5\n",
      "Too High\n",
      "Enter a guess between 1 and 10, within 5 tries: 8\n",
      "Too High\n",
      "Enter a guess between 1 and 10, within 5 tries: 2\n",
      "Too Low\n",
      "Enter a guess between 1 and 10, within 5 tries: 1\n",
      "Too Low\n",
      "Enter a guess between 1 and 10, within 5 tries: 3\n",
      "Too Low\n",
      "Sorry Sucker no more tries, answer was 4\n"
     ]
    }
   ],
   "source": [
    "import random\n",
    "answer = random.randint(1, 10)\n",
    "count = 0 \n",
    "while count < 5:\n",
    "    user_input = int(input(\"Enter a guess between 1 and 10, within 5 tries: \"))\n",
    "    if user_input == answer:\n",
    "        print(\"Correct!\")\n",
    "        count += 1\n",
    "        break\n",
    "    else:\n",
    "        count += 1\n",
    "    if user_input > answer:\n",
    "        print(\"Too High\")\n",
    "    if user_input < answer:\n",
    "        print(\"Too Low\")\n",
    "if count >= 5: \n",
    "    print(\"Sorry Sucker no more tries,\",\"answer was\", answer)\n",
    "    \n",
    "    \n",
    "\n",
    "\n",
    "\n",
    "\n",
    "\n",
    "        "
   ]
  },
  {
   "cell_type": "markdown",
   "id": "b41dd47e",
   "metadata": {},
   "source": [
    "5. Counter Contrast:\n",
    "\n",
    "Write two versions of a program that asks the user for a positive integer n and then prints the numbers from 1 up to n.\n",
    "\n",
    "a) First, use a for loop.\n",
    "b) Next, use a while loop.\n",
    "\n",
    "Which loop structure do you prefer in this context, and why?"
   ]
  },
  {
   "cell_type": "code",
   "execution_count": 95,
   "id": "b9fd4267",
   "metadata": {},
   "outputs": [
    {
     "name": "stdout",
     "output_type": "stream",
     "text": [
      "Enter an Integer: 5\n",
      "1\n",
      "2\n",
      "3\n",
      "4\n",
      "5\n"
     ]
    }
   ],
   "source": [
    "user_input = int(input(\"Enter an Integer: \"))\n",
    "for i in range (1, user_input + 1):\n",
    "    print(i)"
   ]
  },
  {
   "cell_type": "code",
   "execution_count": 94,
   "id": "13b11dc4",
   "metadata": {},
   "outputs": [
    {
     "name": "stdout",
     "output_type": "stream",
     "text": [
      "Enter an Integer: 5\n",
      "1\n",
      "2\n",
      "3\n",
      "4\n",
      "5\n"
     ]
    }
   ],
   "source": [
    "user_input = int(input(\"Enter an Integer: \"))\n",
    "count = 1\n",
    "while count <= user_input:\n",
    "    print(count)\n",
    "    count += 1"
   ]
  },
  {
   "cell_type": "code",
   "execution_count": null,
   "id": "560421db",
   "metadata": {},
   "outputs": [],
   "source": [
    "# To be honest I would prefer the for loop just \n",
    "# because of its familiarity and easy use, but the \n",
    "# while loop looks more saucy and big brained. "
   ]
  },
  {
   "cell_type": "markdown",
   "id": "c2146ed8",
   "metadata": {},
   "source": [
    "6. Multiplication Table:\n",
    "\n",
    "Write a program that:\n",
    "\n",
    "a) Asks the user for a number n.\n",
    "b) Generates and prints the multiplication table for the number up to 10.\n",
    "\n",
    "For example, if the user inputs 5, the output should be:\n",
    "\n",
    "5 x 1 = 5\n",
    "5 x 2 = 10\n",
    "...\n",
    "5 x 10 = 50\n",
    "Implement this twice:\n",
    "a) Using a for loop.\n",
    "b) Using a while loop.\n",
    "\n",
    "Which loop structure do you think is better in this context, and why?"
   ]
  },
  {
   "cell_type": "code",
   "execution_count": 96,
   "id": "ad69db3a",
   "metadata": {
    "scrolled": true
   },
   "outputs": [
    {
     "name": "stdout",
     "output_type": "stream",
     "text": [
      "Enter a number: 2\n",
      "2 x 1 = 2\n",
      "2 x 2 = 4\n",
      "2 x 3 = 6\n",
      "2 x 4 = 8\n",
      "2 x 5 = 10\n",
      "2 x 6 = 12\n",
      "2 x 7 = 14\n",
      "2 x 8 = 16\n",
      "2 x 9 = 18\n",
      "2 x 10 = 20\n"
     ]
    }
   ],
   "source": [
    "user_input = int(input(\"Enter a number: \"))\n",
    "for i in range (1, 11):\n",
    "    ans = i * user_input\n",
    "    print(user_input, \"x\", i, \"=\", ans)\n",
    "    "
   ]
  },
  {
   "cell_type": "code",
   "execution_count": 104,
   "id": "da277982",
   "metadata": {},
   "outputs": [
    {
     "name": "stdout",
     "output_type": "stream",
     "text": [
      "Enter a number: 10\n",
      "10 x 1 = 10\n",
      "10 x 2 = 20\n",
      "10 x 3 = 30\n",
      "10 x 4 = 40\n",
      "10 x 5 = 50\n",
      "10 x 6 = 60\n",
      "10 x 7 = 70\n",
      "10 x 8 = 80\n",
      "10 x 9 = 90\n",
      "10 x 10 = 100\n"
     ]
    }
   ],
   "source": [
    "user_input = int(input(\"Enter a number: \"))\n",
    "count = 1\n",
    "while count <= 10:\n",
    "    ans = count * user_input\n",
    "    print(user_input, \"x\", count, \"=\", ans)\n",
    "    count += 1"
   ]
  },
  {
   "cell_type": "code",
   "execution_count": null,
   "id": "c505b911",
   "metadata": {},
   "outputs": [],
   "source": [
    "# I would use a while loop to be abe to incorporate a \n",
    "# conditon that the input can only be a postive integer and if not it will \n",
    "# rerun the while loop until the condition is met. "
   ]
  },
  {
   "cell_type": "code",
   "execution_count": null,
   "id": "bbd6eca5",
   "metadata": {},
   "outputs": [],
   "source": []
  }
 ],
 "metadata": {
  "kernelspec": {
   "display_name": "Python 3 (ipykernel)",
   "language": "python",
   "name": "python3"
  },
  "language_info": {
   "codemirror_mode": {
    "name": "ipython",
    "version": 3
   },
   "file_extension": ".py",
   "mimetype": "text/x-python",
   "name": "python",
   "nbconvert_exporter": "python",
   "pygments_lexer": "ipython3",
   "version": "3.11.4"
  }
 },
 "nbformat": 4,
 "nbformat_minor": 5
}
