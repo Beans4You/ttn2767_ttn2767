{
 "cells": [
  {
   "cell_type": "code",
   "execution_count": 8,
   "id": "f1a6c175",
   "metadata": {},
   "outputs": [
    {
     "name": "stdout",
     "output_type": "stream",
     "text": [
      "Tu Ngo\n",
      "21\n"
     ]
    }
   ],
   "source": [
    "name = 'Tu Ngo'\n",
    "age = 21\n",
    "print(name)\n",
    "print(age)"
   ]
  },
  {
   "cell_type": "code",
   "execution_count": 16,
   "id": "58af12c6",
   "metadata": {},
   "outputs": [
    {
     "name": "stdout",
     "output_type": "stream",
     "text": [
      "Tu Ngo\n",
      "21\n"
     ]
    }
   ],
   "source": [
    "name, age = age, name \n",
    "print(age)\n",
    "print(name)"
   ]
  },
  {
   "cell_type": "code",
   "execution_count": 20,
   "id": "30c549ca",
   "metadata": {},
   "outputs": [
    {
     "name": "stdout",
     "output_type": "stream",
     "text": [
      "<class 'int'>\n",
      "<class 'float'>\n",
      "<class 'str'>\n",
      "<class 'list'>\n",
      "<class 'tuple'>\n",
      "<class 'set'>\n",
      "<class 'bool'>\n"
     ]
    }
   ],
   "source": [
    "a = 5\n",
    "b = 5.0 \n",
    "c = \"5\"\n",
    "d = [5]\n",
    "e = (5,)\n",
    "f = {5}\n",
    "g = True \n",
    "\n",
    "print (type (a))\n",
    "print (type (b))\n",
    "print (type (c))\n",
    "print (type (d))\n",
    "print (type (e))\n",
    "print (type (f))\n",
    "print (type (g))"
   ]
  },
  {
   "cell_type": "code",
   "execution_count": 22,
   "id": "03481e6a",
   "metadata": {},
   "outputs": [
    {
     "name": "stdout",
     "output_type": "stream",
     "text": [
      "True\n"
     ]
    }
   ],
   "source": [
    "is_student = True \n",
    "print (is_student)"
   ]
  },
  {
   "cell_type": "code",
   "execution_count": 23,
   "id": "5690f53a",
   "metadata": {},
   "outputs": [
    {
     "name": "stdout",
     "output_type": "stream",
     "text": [
      "38\n",
      "-16\n",
      "56\n",
      "25.0\n"
     ]
    }
   ],
   "source": [
    "add = 15 + 23\n",
    "subtract = 34 - 50\n",
    "multiply = 8 * 7 \n",
    "divide = 100 / 4\n",
    "print(add)\n",
    "print(subtract)\n",
    "print(multiply)\n",
    "print(divide)"
   ]
  },
  {
   "cell_type": "code",
   "execution_count": 24,
   "id": "4e1fb5f4",
   "metadata": {},
   "outputs": [
    {
     "name": "stdout",
     "output_type": "stream",
     "text": [
      "0\n",
      "100000\n"
     ]
    }
   ],
   "source": [
    "a = 10\n",
    "b = 5 \n",
    "remainder = a % b\n",
    "power = a ** b\n",
    "print (remainder)\n",
    "print (power)"
   ]
  },
  {
   "cell_type": "code",
   "execution_count": 1,
   "id": "9f2fe414",
   "metadata": {},
   "outputs": [
    {
     "name": "stdout",
     "output_type": "stream",
     "text": [
      "123\n"
     ]
    }
   ],
   "source": [
    "string_number = '123'\n",
    "int_number = int(string_number)\n",
    "print(int_number)"
   ]
  },
  {
   "cell_type": "code",
   "execution_count": 2,
   "id": "f971219c",
   "metadata": {},
   "outputs": [
    {
     "name": "stdout",
     "output_type": "stream",
     "text": [
      "456\n"
     ]
    }
   ],
   "source": [
    "int_num = 456\n",
    "string_convert = str(int_num)\n",
    "print(string_convert)"
   ]
  },
  {
   "cell_type": "code",
   "execution_count": 3,
   "id": "dc6277fd",
   "metadata": {},
   "outputs": [
    {
     "name": "stdout",
     "output_type": "stream",
     "text": [
      "78\n"
     ]
    }
   ],
   "source": [
    "float_num = 78.9\n",
    "int_val = int(float_num)\n",
    "print(int_val)"
   ]
  },
  {
   "cell_type": "code",
   "execution_count": 7,
   "id": "2bdb52b7",
   "metadata": {},
   "outputs": [
    {
     "name": "stdout",
     "output_type": "stream",
     "text": [
      "Python Rocks \n"
     ]
    }
   ],
   "source": [
    "string_a = 'Python '\n",
    "string_b = 'Rocks '\n",
    "beans = string_a + string_b\n",
    "print(beans, sep='')"
   ]
  },
  {
   "cell_type": "code",
   "execution_count": 9,
   "id": "9b969ee0",
   "metadata": {},
   "outputs": [
    {
     "name": "stdout",
     "output_type": "stream",
     "text": [
      "Hello Hello Hello \n"
     ]
    }
   ],
   "source": [
    "string_c = 'Hello '\n",
    "beans_two = string_c * 3\n",
    "print(beans_two, sep='')"
   ]
  },
  {
   "cell_type": "code",
   "execution_count": 19,
   "id": "d1affa48",
   "metadata": {
    "scrolled": true
   },
   "outputs": [
    {
     "name": "stdout",
     "output_type": "stream",
     "text": [
      "10\n",
      "15\n",
      "5\n"
     ]
    }
   ],
   "source": [
    "x = 5\n",
    "y = 10\n",
    "z = 15\n",
    "\n",
    "x = z - x   \n",
    "z = z - y   \n",
    "y = x + z\n",
    "\n",
    "print(x)\n",
    "print(y)\n",
    "print(z)"
   ]
  }
 ],
 "metadata": {
  "kernelspec": {
   "display_name": "Python 3 (ipykernel)",
   "language": "python",
   "name": "python3"
  },
  "language_info": {
   "codemirror_mode": {
    "name": "ipython",
    "version": 3
   },
   "file_extension": ".py",
   "mimetype": "text/x-python",
   "name": "python",
   "nbconvert_exporter": "python",
   "pygments_lexer": "ipython3",
   "version": "3.11.4"
  }
 },
 "nbformat": 4,
 "nbformat_minor": 5
}
