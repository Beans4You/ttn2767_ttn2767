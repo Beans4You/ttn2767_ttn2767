{
 "cells": [
  {
   "cell_type": "markdown",
   "id": "a1573e1d",
   "metadata": {},
   "source": [
    "Part 1: for loops with lists and range()\n",
    "1. Lists:\n",
    "a) Write a program (i.e. code cell) that takes a list of numbers and prints each number multiplied by 2.\n",
    "\n",
    "Example Input: [2, 4, 6, 8]\n"
   ]
  },
  {
   "cell_type": "code",
   "execution_count": 9,
   "id": "1d70a40a",
   "metadata": {},
   "outputs": [
    {
     "name": "stdout",
     "output_type": "stream",
     "text": [
      "4\n",
      "8\n",
      "12\n",
      "16\n"
     ]
    }
   ],
   "source": [
    "user_input = [2, 4, 6, 8]\n",
    "for i in user_input :\n",
    "    user_input_2 = i * 2\n",
    "    print(user_input_2)"
   ]
  },
  {
   "cell_type": "markdown",
   "id": "d5eab68d",
   "metadata": {},
   "source": [
    "b) Given a list of strings, write a program that prints out the elements of the string in reverse order without reversing the list itself.\n",
    "\n",
    "Example Input: [\"apple\", \"pear\", \"kiwi\", \"grape\"]\n",
    "\n",
    "Example Output:\n",
    "\n",
    "grape\n",
    "kiwi\n",
    "pear\n",
    "apple"
   ]
  },
  {
   "cell_type": "code",
   "execution_count": 53,
   "id": "220c562d",
   "metadata": {},
   "outputs": [
    {
     "name": "stdout",
     "output_type": "stream",
     "text": [
      "['grape', 'kiwi', 'pear', 'apple']\n"
     ]
    }
   ],
   "source": [
    "user_input = [\"apple\", \"pear\", \"kiwi\", \"grape\"]\n",
    "new_data =[]\n",
    "for i in (user_input):\n",
    "    new_data = [i] + new_data\n",
    "print(new_data)\n"
   ]
  },
  {
   "cell_type": "markdown",
   "id": "ef7c2c7d",
   "metadata": {},
   "source": [
    "2. Using the range() function:\n",
    "a) Write code that uses a for loop and the range() function to print numbers 0 through 9.\n",
    "\n",
    "b) Use the range() function to print numbers from 5 to 15.\n",
    "\n",
    "c) Create a program that prints out the first 10 even numbers using the range() function."
   ]
  },
  {
   "cell_type": "code",
   "execution_count": 57,
   "id": "f7e7cde9",
   "metadata": {},
   "outputs": [
    {
     "name": "stdout",
     "output_type": "stream",
     "text": [
      "0\n",
      "1\n",
      "2\n",
      "3\n",
      "4\n",
      "5\n",
      "6\n",
      "7\n",
      "8\n",
      "9\n"
     ]
    }
   ],
   "source": [
    "for i in range(0, 10):\n",
    "    print(i)"
   ]
  },
  {
   "cell_type": "markdown",
   "id": "2405c73f",
   "metadata": {},
   "source": [
    "Part 2: Dictionaries and Loops\n",
    "a) Create a dictionary where the keys are student names and the values are their favorite colors. Write a program that prints out each student's name and their favorite color.\n",
    "\n",
    "Example Output:\n",
    "\n",
    "Alex's favorite color is Blue.\n",
    "Jordan's favorite color is Green.\n",
    "Taylor's favorite color is Red.\n",
    "b) Given a dictionary with product names as keys and their quantities as values, write a program that doubles the quantity of each product and prints out the updated quantities.\n",
    "\n"
   ]
  },
  {
   "cell_type": "code",
   "execution_count": 78,
   "id": "a01944a9",
   "metadata": {},
   "outputs": [
    {
     "name": "stdout",
     "output_type": "stream",
     "text": [
      "Alex's favorite color is Blue.\n",
      "Jordan's favorite color is Green.\n",
      "Taylor's favorite color is Red.\n"
     ]
    }
   ],
   "source": [
    "new_dict = {\n",
    "    'Alex': 'Blue',\n",
    "    'Jordan': 'Green',\n",
    "    'Taylor': 'Red'\n",
    "}\n",
    "for student, color in new_dict.items():\n",
    "    print(student,\"'s\", \" favorite color is \", color, \".\", sep='')"
   ]
  },
  {
   "cell_type": "markdown",
   "id": "a0378461",
   "metadata": {},
   "source": [
    "b) Given a dictionary with product names as keys and their quantities as values, write a program that doubles the quantity of each product and prints out the updated quantities.\n",
    "\n",
    "Example Input: {\"apple\": 5, \"banana\": 3, \"cherries\": 10}\n",
    "\n",
    "Example Output:\n",
    "\n",
    "apple now has 10.\n",
    "banana now has 6.\n",
    "cherries now have 20."
   ]
  },
  {
   "cell_type": "code",
   "execution_count": 6,
   "id": "20155583",
   "metadata": {},
   "outputs": [
    {
     "name": "stdout",
     "output_type": "stream",
     "text": [
      "Apple now has 10.\n",
      "Banana now has 6.\n",
      "Cherries now has 20.\n"
     ]
    }
   ],
   "source": [
    "fruit_amt = {\"Apple\": 5, \"Banana\": 3, \"Cherries\": 10}\n",
    "for fruit, amt in fruit_amt.items():\n",
    "    new_dict = amt * 2\n",
    "    print(fruit, \" now has \", new_dict, \".\", sep=\"\")\n"
   ]
  },
  {
   "cell_type": "markdown",
   "id": "1df92f76",
   "metadata": {},
   "source": [
    "a) Write a program that takes a list of numbers and creates a new list with each number multiplied by 2.\n",
    "\n",
    "Example Input: [1, 3, 5, 7]\n",
    "\n",
    "Example Output (new list): [2, 6, 10, 14]\n",
    "\n"
   ]
  },
  {
   "cell_type": "code",
   "execution_count": 10,
   "id": "7c0d4bb7",
   "metadata": {},
   "outputs": [
    {
     "name": "stdout",
     "output_type": "stream",
     "text": [
      "[2, 6, 10, 14]\n"
     ]
    }
   ],
   "source": [
    "user_input = [1, 3, 5, 7]\n",
    "for i in range(len(user_input)):\n",
    "    user_input[i] *= 2\n",
    "print(user_input)"
   ]
  },
  {
   "cell_type": "markdown",
   "id": "d4d6830f",
   "metadata": {},
   "source": [
    "b) Given a list of words, create a new list that contains the first letter of each word.\n",
    "\n",
    "Example Input: [\"Apple\", \"Banana\", \"Cherry\", \"Date\"]\n",
    "\n",
    "Example Output (new list): [\"A\", \"B\", \"C\", \"D\"]"
   ]
  },
  {
   "cell_type": "code",
   "execution_count": 15,
   "id": "3bdbe2cd",
   "metadata": {},
   "outputs": [
    {
     "name": "stdout",
     "output_type": "stream",
     "text": [
      "['A', 'B', 'C', 'D']\n"
     ]
    }
   ],
   "source": [
    "user_input = [\"Apple\", \"Banana\", \"Cherry\", \"Date\"]\n",
    "new_set = []\n",
    "for word in user_input:\n",
    "    if word:\n",
    "        new_set.append(word[0])\n",
    "print(new_set)"
   ]
  },
  {
   "cell_type": "markdown",
   "id": "506b3d22",
   "metadata": {},
   "source": [
    "2. using list comprehension\n",
    "c) Use a list comprehension to compute and save the square roots of a list of numbers from 1 to 10.\n",
    "\n",
    "Input list: [1, 2, 3, 4, 5, 6, 7, 8, 9, 10]\n",
    "\n",
    "Expected Output:\n",
    "\n",
    "[1.0,\n",
    " 1.4142135623730951,\n",
    " 1.7320508075688772,\n",
    " 2.0,\n",
    " 2.23606797749979,\n",
    " 2.449489742783178,\n",
    " 2.6457513110645907,\n",
    " 2.8284271247461903,\n",
    " 3.0,\n",
    " 3.1622776601683795]\n"
   ]
  },
  {
   "cell_type": "code",
   "execution_count": 17,
   "id": "03d1cfee",
   "metadata": {},
   "outputs": [
    {
     "name": "stdout",
     "output_type": "stream",
     "text": [
      "[1.0, 1.4142135623730951, 1.7320508075688772, 2.0, 2.23606797749979, 2.449489742783178, 2.6457513110645907, 2.8284271247461903, 3.0, 3.1622776601683795]\n"
     ]
    }
   ],
   "source": [
    "input_list = [1, 2, 3, 4, 5, 6, 7, 8, 9, 10]\n",
    "for i in range(len(input_list)):\n",
    "    input_list[i] **= 0.5\n",
    "print(input_list)"
   ]
  },
  {
   "cell_type": "markdown",
   "id": "8a09f8d2",
   "metadata": {},
   "source": [
    "d) Given a list of words, use a list comprehension to create a new list containing the last letter of each word.\n",
    "\n",
    "Example Input: [\"apple\", \"pear\", \"kiwi\", \"grape\"]\n",
    "\n",
    "Expected Output: [\"e\", \"r\", \"i\", \"e\"]"
   ]
  },
  {
   "cell_type": "code",
   "execution_count": 21,
   "id": "73d70f65",
   "metadata": {},
   "outputs": [
    {
     "name": "stdout",
     "output_type": "stream",
     "text": [
      "['e', 'r', 'i', 'e']\n"
     ]
    }
   ],
   "source": [
    "new_set = [\"apple\", \"pear\", \"kiwi\", \"grape\"]\n",
    "new_list = [word[-1] for word in new_set if word]\n",
    "print(new_list)\n"
   ]
  },
  {
   "cell_type": "code",
   "execution_count": 22,
   "id": "6500578b",
   "metadata": {},
   "outputs": [
    {
     "name": "stdout",
     "output_type": "stream",
     "text": [
      "[1, 2, 3, 4, 5, 6, 7, 8, 9, 10, 11, 12, 13, 14, 15, 16, 17, 18, 19, 20, 21, 22, 23, 42]\n"
     ]
    }
   ],
   "source": [
    "deep_list = [[[1, 2, 3, 4], [5, 6, 7, 8]],\n",
    "            [[9, 10, 11, 12], [13, 14, 15, 16]],\n",
    "            [[17, 18, 19, 20], [21, 22, 23, 42]]]\n",
    "flat_list = []\n",
    "for sublist_1 in deep_list:\n",
    "    for sublist_2 in sublist_1:\n",
    "        for sublist_3 in sublist_2:\n",
    "            flat_list.append(sublist_3)\n",
    "print(flat_list)"
   ]
  },
  {
   "cell_type": "markdown",
   "id": "137a4cde",
   "metadata": {},
   "source": [
    "b) Write code that, given a list of strings like this:\n",
    "\n",
    "myStrLst = [\"able\", \"was\", \"I\", \"ere\", \"I\", \"saw\", \"elba\"]\n",
    "reverses both the order of the strings in the list and the order of the letters in each string.\n",
    "\n",
    "Warning This one is tough, and requires you put together a few of the skills we've learned, so don't get frustrated if it takes you a lot of trial and error! That's what coding is often like!"
   ]
  },
  {
   "cell_type": "code",
   "execution_count": 33,
   "id": "6c95b1a1",
   "metadata": {},
   "outputs": [
    {
     "name": "stdout",
     "output_type": "stream",
     "text": [
      "['able', 'was', 'I', 'ere', 'I', 'saw', 'elba']\n"
     ]
    }
   ],
   "source": [
    "myStrLst = [\"able\", \"was\", \"I\", \"ere\", \"I\", \"saw\", \"elba\"]\n",
    "\n",
    "reverse = []\n",
    "for i in range(len(myStrLst) -1, -1, -1):\n",
    "    reverse_word = \"\"\n",
    "    for j in range(len(myStrLst[i]) -1, -1, -1):\n",
    "        reverse_word += myStrLst[i][j]\n",
    "    reverse.append(reverse_word)\n",
    "print(reverse)"
   ]
  },
  {
   "cell_type": "code",
   "execution_count": null,
   "id": "d9a6b19e",
   "metadata": {},
   "outputs": [],
   "source": []
  }
 ],
 "metadata": {
  "kernelspec": {
   "display_name": "Python 3 (ipykernel)",
   "language": "python",
   "name": "python3"
  },
  "language_info": {
   "codemirror_mode": {
    "name": "ipython",
    "version": 3
   },
   "file_extension": ".py",
   "mimetype": "text/x-python",
   "name": "python",
   "nbconvert_exporter": "python",
   "pygments_lexer": "ipython3",
   "version": "3.11.4"
  }
 },
 "nbformat": 4,
 "nbformat_minor": 5
}
