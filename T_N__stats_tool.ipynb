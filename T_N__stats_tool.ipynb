{
 "cells": [
  {
   "cell_type": "code",
   "execution_count": 45,
   "id": "f16ee0f0",
   "metadata": {},
   "outputs": [],
   "source": [
    "import T_N_stats_module"
   ]
  },
  {
   "cell_type": "code",
   "execution_count": null,
   "id": "2e94074f",
   "metadata": {},
   "outputs": [
    {
     "name": "stdout",
     "output_type": "stream",
     "text": [
      "Enter a number or type 'Quit' to quit: 1\n",
      "Enter a number or type 'Quit' to quit: 2\n",
      "Enter a number or type 'Quit' to quit: 3\n",
      "Enter a number or type 'Quit' to quit: 4\n",
      "Enter a number or type 'Quit' to quit: 5\n",
      "Enter a number or type 'Quit' to quit: Quit\n",
      "Mean:  3.0\n",
      "Variance:  2.0\n",
      "Standard deviation:  1.4142135623730951\n",
      "Standard Error:  0.6324555320336759\n",
      "Enter num for Z-score, or type 'Quit' to end Quit\n",
      "Invalid input, enter a valid number\n",
      "Would you like to quit (y/n)?n\n",
      "Enter num for Z-score, or type 'Quit' to end 1\n",
      "Z-score:  -1.414213562373095\n"
     ]
    }
   ],
   "source": [
    "# user input values\n",
    "def get_numbers():\n",
    "    numbers = []\n",
    "    while True:\n",
    "        user_input = input(\"Enter a number or type 'Quit' to quit: \")\n",
    "        if user_input.lower() == \"quit\":\n",
    "            break\n",
    "        try:\n",
    "            number = float(user_input)\n",
    "            numbers.append(number)\n",
    "        except ValueError:\n",
    "            print(\"Invalid input\")\n",
    "    return numbers\n",
    "# Variance, mean, std_dev, and std_error \n",
    "def main():\n",
    "    numbers = get_numbers()\n",
    "    if not numbers:\n",
    "        print(\"Nothing entered\")\n",
    "        return\n",
    "    mean = T_N_stats_module.calc_mean(numbers)\n",
    "    variance = T_N_stats_module.calc_variance(numbers, mean)\n",
    "    std_dev = T_N_stats_module.calc_stan_dev(variance)\n",
    "    std_error = T_N_stats_module.calc_stan_error(std_dev, len(numbers))\n",
    "    \n",
    "    print(\"Mean: \", mean)\n",
    "    print(\"Variance: \", variance)\n",
    "    print(\"Standard deviation: \", std_dev)\n",
    "    print(\"Standard Error: \", std_error)\n",
    "# Z-scores\n",
    "    while True:\n",
    "        try:\n",
    "            num_new = float(input(\"Enter num for Z-score, or type 'Quit' to end \"))\n",
    "            if num_new == 'Quit':\n",
    "                break\n",
    "            new_value = float(num_new)\n",
    "            z_score = T_N_stats_module.calc_z(new_value, mean, std_dev)\n",
    "            print(\"Z-score: \",z_score)\n",
    "        except ValueError:\n",
    "            print(\"Invalid input, enter a valid number\")\n",
    "        if input(\"Would you like to quit (y/n)?\").lower() ==\"y\":\n",
    "                break\n",
    "\n",
    "                \n",
    "if __name__ == \"__main__\":\n",
    "    main()           \n",
    "        "
   ]
  },
  {
   "cell_type": "markdown",
   "id": "3466022a",
   "metadata": {},
   "source": [
    "## "
   ]
  },
  {
   "cell_type": "code",
   "execution_count": null,
   "id": "2462df78",
   "metadata": {},
   "outputs": [],
   "source": []
  }
 ],
 "metadata": {
  "kernelspec": {
   "display_name": "Python 3 (ipykernel)",
   "language": "python",
   "name": "python3"
  },
  "language_info": {
   "codemirror_mode": {
    "name": "ipython",
    "version": 3
   },
   "file_extension": ".py",
   "mimetype": "text/x-python",
   "name": "python",
   "nbconvert_exporter": "python",
   "pygments_lexer": "ipython3",
   "version": "3.11.4"
  }
 },
 "nbformat": 4,
 "nbformat_minor": 5
}
