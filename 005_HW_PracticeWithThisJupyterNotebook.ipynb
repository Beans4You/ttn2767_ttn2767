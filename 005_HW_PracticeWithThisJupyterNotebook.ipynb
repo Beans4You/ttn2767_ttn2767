{
 "cells": [
  {
   "cell_type": "markdown",
   "id": "b71af9f1",
   "metadata": {},
   "source": [
    "# This is a notebook for homework used to practice the class workflow\n",
    "\n",
    "You are asked to add your information below:\n",
    "\n",
    "Name: \n",
    "\n",
    "Surname:\n",
    "\n",
    "EID:"
   ]
  },
  {
   "cell_type": "markdown",
   "id": "a758306e",
   "metadata": {},
   "source": [
    "Create a table with 5 rows and 3 columns using Markdown.\n",
    "\n",
    "Column 1 should code for artist name\n",
    "Column 2 should code for a song title\n",
    "Column 3 should reason you like the song.\n",
    "\n",
    "Please fill out the table with your top 5 artists and their respective top songs and an note explaining why/what you like of the song and artist.\n",
    "\n",
    "###### Hint: Avoid say \"because they are awesome!\" We really are interested in learing what you guys like.\n"
   ]
  },
  {
   "cell_type": "code",
   "execution_count": 2,
   "id": "d33083a9",
   "metadata": {},
   "outputs": [
    {
     "name": "stdout",
     "output_type": "stream",
     "text": [
      "Tu\n",
      "Ngo\n",
      "ttn2767\n"
     ]
    }
   ],
   "source": [
    "print('Tu')\n",
    "print('Ngo')\n",
    "print('ttn2767')"
   ]
  },
  {
   "cell_type": "markdown",
   "id": "8b6f69b4",
   "metadata": {},
   "source": [
    "| Artist Name       | Song title       | Reason Why                                                  |\n",
    "|-------------------|------------------|-------------------------------------------------------------|\n",
    "|Saint Motel        | Cold Cold Man    |Reminds me of the summer before college.                     |\n",
    "|Mac DeMarco        | My Kind of Woman |The slow tempo makes this song perfect for a hw sesh.        |\n",
    "|Frank Ocean        | Seigfried        |This song has been a staple in my playlist since highschool. |\n",
    "|Kanye west         | Dark Fantasy     |The fast paced tempo makes me go stir crazy with work.       |\n",
    "|Tribe Called Quest | Can I Kick It?   |This song will make anyone mellow out and relax.             |\n"
   ]
  },
  {
   "cell_type": "code",
   "execution_count": null,
   "id": "67f8f7da",
   "metadata": {},
   "outputs": [],
   "source": []
  }
 ],
 "metadata": {
  "kernelspec": {
   "display_name": "Python 3 (ipykernel)",
   "language": "python",
   "name": "python3"
  },
  "language_info": {
   "codemirror_mode": {
    "name": "ipython",
    "version": 3
   },
   "file_extension": ".py",
   "mimetype": "text/x-python",
   "name": "python",
   "nbconvert_exporter": "python",
   "pygments_lexer": "ipython3",
   "version": "3.11.4"
  }
 },
 "nbformat": 4,
 "nbformat_minor": 5
}
