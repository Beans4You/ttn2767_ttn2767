{
 "cells": [
  {
   "cell_type": "code",
   "execution_count": null,
   "id": "6dffa327",
   "metadata": {},
   "outputs": [],
   "source": [
    "def calc_mean(numbers):\n",
    "    return sum(numbers) / len(numbers) \n",
    "\n",
    "def calc_variance(numbers, mean):\n",
    "    sum_of_sq_differences = sum((x - mean) ** 2 for x in numbers)\n",
    "    variance = sum_of_sq_differences / len(numbers)\n",
    "    return variance\n",
    "\n",
    "def calc_stan_dev(variance):\n",
    "    return variance ** 0.5\n",
    "\n",
    "def calc_stan_error(stan_dev, n):\n",
    "    return stan_dev / (len(numbers) ** 0.5) \n",
    "\n",
    "def calc_z(new_num, mean, stan_dev):\n",
    "    if stan_dev is not None:\n",
    "        return (new_num - mean) / stan_dev if stan.dev != 0 else None\n",
    "\n",
    "\n"
   ]
  }
 ],
 "metadata": {
  "kernelspec": {
   "display_name": "Python 3 (ipykernel)",
   "language": "python",
   "name": "python3"
  },
  "language_info": {
   "codemirror_mode": {
    "name": "ipython",
    "version": 3
   },
   "file_extension": ".py",
   "mimetype": "text/x-python",
   "name": "python",
   "nbconvert_exporter": "python",
   "pygments_lexer": "ipython3",
   "version": "3.11.4"
  }
 },
 "nbformat": 4,
 "nbformat_minor": 5
}
