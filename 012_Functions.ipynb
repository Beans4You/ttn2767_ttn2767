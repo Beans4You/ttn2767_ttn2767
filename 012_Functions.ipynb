{
 "cells": [
  {
   "cell_type": "code",
   "execution_count": 1,
   "id": "aa7d1ef2",
   "metadata": {},
   "outputs": [
    {
     "name": "stdout",
     "output_type": "stream",
     "text": [
      "7\n"
     ]
    }
   ],
   "source": [
    "mylist = [1, 2, 3, 4, 5, 6, 7]\n",
    "print(len(mylist))"
   ]
  },
  {
   "cell_type": "code",
   "execution_count": 3,
   "id": "9f735386",
   "metadata": {},
   "outputs": [],
   "source": [
    "import mylen"
   ]
  },
  {
   "cell_type": "code",
   "execution_count": 4,
   "id": "1ded38ed",
   "metadata": {},
   "outputs": [
    {
     "data": {
      "text/plain": [
       "42"
      ]
     },
     "execution_count": 4,
     "metadata": {},
     "output_type": "execute_result"
    }
   ],
   "source": [
    "mylen.len(mylist)"
   ]
  },
  {
   "cell_type": "code",
   "execution_count": 5,
   "id": "2a84e0e8",
   "metadata": {},
   "outputs": [],
   "source": [
    "from mylen import len"
   ]
  },
  {
   "cell_type": "code",
   "execution_count": 6,
   "id": "df2d4338",
   "metadata": {},
   "outputs": [
    {
     "data": {
      "text/plain": [
       "42"
      ]
     },
     "execution_count": 6,
     "metadata": {},
     "output_type": "execute_result"
    }
   ],
   "source": [
    "len(mylist)"
   ]
  },
  {
   "cell_type": "markdown",
   "id": "26c05c05",
   "metadata": {},
   "source": [
    "when importing a function, it's going to take precedence over the built-in function. This shows how versitile python is by including ways to have your functions using your own \"defintion\""
   ]
  },
  {
   "cell_type": "code",
   "execution_count": null,
   "id": "dd514b98",
   "metadata": {},
   "outputs": [],
   "source": []
  }
 ],
 "metadata": {
  "kernelspec": {
   "display_name": "Python 3 (ipykernel)",
   "language": "python",
   "name": "python3"
  },
  "language_info": {
   "codemirror_mode": {
    "name": "ipython",
    "version": 3
   },
   "file_extension": ".py",
   "mimetype": "text/x-python",
   "name": "python",
   "nbconvert_exporter": "python",
   "pygments_lexer": "ipython3",
   "version": "3.11.4"
  }
 },
 "nbformat": 4,
 "nbformat_minor": 5
}
