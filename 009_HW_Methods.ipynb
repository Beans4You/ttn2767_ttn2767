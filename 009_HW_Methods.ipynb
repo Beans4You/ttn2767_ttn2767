{
 "cells": [
  {
   "cell_type": "markdown",
   "id": "758c86c9",
   "metadata": {},
   "source": [
    "Strings:\n",
    "\n",
    "Given the string s = \"ProgrammingIsFun\", extract and print the substring \"Program\".\n",
    "Extract and print the substring \"Fun\".\n",
    "Extract and print every 3rd character of the string."
   ]
  },
  {
   "cell_type": "code",
   "execution_count": 10,
   "id": "ea7cce88",
   "metadata": {},
   "outputs": [
    {
     "name": "stdout",
     "output_type": "stream",
     "text": [
      "Program\n",
      "Fun\n",
      "Pgmnsn\n"
     ]
    }
   ],
   "source": [
    "s = \"ProgrammingIsFun\"\n",
    "\n",
    "substring = s[0:7]\n",
    "print(substring)\n",
    "\n",
    "subString = s[13:16]\n",
    "print(subString)\n",
    " \n",
    "print(s[::3])"
   ]
  },
  {
   "cell_type": "markdown",
   "id": "02b2ef88",
   "metadata": {},
   "source": [
    "Lists:\n",
    "\n",
    "Given the list lst = [10, 20, 30, 40, 50, 60, 70, 80]:\n",
    "Extract and print the first 3 elements.\n",
    "Extract and print the last 2 elements.\n",
    "Extract and print the elements from index 3 to 6 (inclusive).\n",
    "Extract and print every 2nd element from the list.\n",
    "Extract and print every 2nd element starting from the end of the list."
   ]
  },
  {
   "cell_type": "code",
   "execution_count": 27,
   "id": "30bee068",
   "metadata": {},
   "outputs": [
    {
     "name": "stdout",
     "output_type": "stream",
     "text": [
      "[10, 20, 30]\n",
      "[70, 80]\n",
      "[40, 50, 60, 70]\n",
      "[10, 30, 50, 70]\n",
      "[80, 60, 40, 20]\n"
     ]
    }
   ],
   "source": [
    "lst = [10, 20, 30, 40, 50, 60, 70, 80]\n",
    "sub_list = lst[0:3]\n",
    "print(sub_list)\n",
    "\n",
    "Sub_List = lst[6:8]\n",
    "print(Sub_List)\n",
    "\n",
    "sub_inclusive = lst[3:7]\n",
    "print(sub_inclusive)\n",
    "\n",
    "print(lst[::2])\n",
    "print(lst[::-2])"
   ]
  },
  {
   "cell_type": "markdown",
   "id": "531b908b",
   "metadata": {},
   "source": [
    "Given the tuple tup = (5, 10, 15, 20, 25, 30, 35, 40):\n",
    "Extract and print the second element.\n",
    "Extract and print the last 3 elements.\n",
    "Extract and print the elements from index 2 to 5 (exclusive).\n"
   ]
  },
  {
   "cell_type": "code",
   "execution_count": 31,
   "id": "7d382297",
   "metadata": {},
   "outputs": [
    {
     "name": "stdout",
     "output_type": "stream",
     "text": [
      "10\n",
      "(30, 35, 40)\n",
      "(15, 20, 25)\n"
     ]
    }
   ],
   "source": [
    "tup = (5, 10, 15, 20, 25, 30, 35, 40)\n",
    "\n",
    "second_e = tup[1]\n",
    "print(second_e)\n",
    "\n",
    "last_three = tup[5:8]\n",
    "print(last_three)\n",
    "\n",
    "two_five = tup[2:5]\n",
    "print(two_five)"
   ]
  },
  {
   "cell_type": "markdown",
   "id": "85f8b08f",
   "metadata": {},
   "source": [
    "Strings:\n",
    "\n",
    "Find and print the index of the first occurrence of the substring \"ring\" in s.\n",
    "Convert the string s to lowercase and print the result.\n",
    "Replace the substring \"Fun\" in s with \"Amazing\" and print the result."
   ]
  },
  {
   "cell_type": "code",
   "execution_count": 43,
   "id": "52590ad8",
   "metadata": {},
   "outputs": [
    {
     "name": "stdout",
     "output_type": "stream",
     "text": [
      "7\n",
      "programmingisfun\n",
      "ProgrammingIsAmazing\n"
     ]
    }
   ],
   "source": [
    "s = \"ProgrammingIsFun\"\n",
    "m = s.index(\"ming\")\n",
    "print(m)\n",
    "\n",
    "print(s.lower())\n",
    "\n",
    "repS = s.replace('Fun', 'Amazing')\n",
    "print(repS)"
   ]
  },
  {
   "cell_type": "markdown",
   "id": "f7ede464",
   "metadata": {},
   "source": [
    "Add the elements 90 and 100 to the end of lst and print the updated list.\n",
    "Remove the second element from lst and print the updated list.\n",
    "Reverse the order of elements in lst and print the updated list.\n",
    "Find and print the index of element 50 in lst.\n"
   ]
  },
  {
   "cell_type": "code",
   "execution_count": 53,
   "id": "4b154492",
   "metadata": {},
   "outputs": [
    {
     "name": "stdout",
     "output_type": "stream",
     "text": [
      "[10, 20, 30, 40, 50, 60, 70, 80, 90, 100]\n",
      "[10, 30, 40, 50, 60, 70, 80, 90, 100]\n",
      "[100, 90, 80, 70, 60, 50, 40, 30, 10]\n",
      "5\n"
     ]
    }
   ],
   "source": [
    "lst = [10, 20, 30, 40, 50, 60, 70, 80]\n",
    "\n",
    "lst.append(90)\n",
    "lst.append(100)\n",
    "print(lst)\n",
    "\n",
    "lst.remove(20)\n",
    "print(lst)\n",
    "\n",
    "lst.reverse()\n",
    "print(lst)\n",
    "\n",
    "lst.index(50)\n",
    "print(lst.index(50))"
   ]
  },
  {
   "cell_type": "markdown",
   "id": "ba428396",
   "metadata": {},
   "source": [
    "Count and print the number of occurrences of 20 in tup.\n",
    "Convert tup into a list, add the number 45 at its end, then convert it back to a tuple. Print the new tuple.\n"
   ]
  },
  {
   "cell_type": "code",
   "execution_count": 5,
   "id": "7e2bbe57",
   "metadata": {
    "scrolled": false
   },
   "outputs": [
    {
     "name": "stdout",
     "output_type": "stream",
     "text": [
      "1\n"
     ]
    }
   ],
   "source": [
    "tup = (5, 10, 15, 20, 25, 30, 35, 40)\n",
    "\n",
    "print(tup.count(20))\n",
    "\n"
   ]
  },
  {
   "cell_type": "code",
   "execution_count": 8,
   "id": "44a8fb6a",
   "metadata": {},
   "outputs": [
    {
     "name": "stdout",
     "output_type": "stream",
     "text": [
      "[5, 10, 15, 20, 25, 30, 35, 40]\n",
      "[5, 10, 15, 20, 25, 30, 35, 40, 45]\n",
      "(5, 10, 15, 20, 25, 30, 35, 40, 45)\n"
     ]
    }
   ],
   "source": [
    "tup = (5, 10, 15, 20, 25, 30, 35, 40)\n",
    "\n",
    "lst = list(tup)\n",
    "print(lst)\n",
    "\n",
    "lst.append(45)\n",
    "print(lst)\n",
    "\n",
    "tup = tuple(lst)\n",
    "print(tup)"
   ]
  },
  {
   "cell_type": "markdown",
   "id": "7010b0ca",
   "metadata": {},
   "source": [
    "Given the dictionary S_Doo_ = {\"Scooby\": 4, \"Shaggy\": 19, \"Velma\": 18, \"Daphne\": 20}\n",
    "Add a new key-value pair: \"Phred\": 21 and print the updated dictionary.\n",
    "Retrieve and print the age of \"Velma\".\n",
    "Remove \"Scooby\" and his age from the dictionary and print the updated dictionary.\n",
    "Print all the keys in the dictionary.\n",
    "Print all the values in the dictionary.\n"
   ]
  },
  {
   "cell_type": "code",
   "execution_count": 27,
   "id": "14f7cd34",
   "metadata": {},
   "outputs": [
    {
     "name": "stdout",
     "output_type": "stream",
     "text": [
      "{'Scooby': 4, 'Shaggy': 19, 'Velma': 18, 'Daphne': 20, 'Phred': 21}\n",
      "18\n",
      "{'Shaggy': 19, 'Velma': 18, 'Daphne': 20, 'Phred': 21}\n",
      "dict_keys(['Shaggy', 'Velma', 'Daphne', 'Phred'])\n",
      "dict_values([19, 18, 20, 21])\n"
     ]
    }
   ],
   "source": [
    "S_Doo_ = {\"Scooby\": 4, \"Shaggy\": 19, \"Velma\": 18, \"Daphne\": 20}\n",
    "\n",
    "S_Doo_['Phred'] = 21\n",
    "print(S_Doo_)\n",
    "\n",
    "print(S_Doo_['Velma'])\n",
    "\n",
    "del S_Doo_['Scooby']\n",
    "print(S_Doo_)\n",
    "\n",
    "print(S_Doo_.keys())\n",
    "print(S_Doo_.values())"
   ]
  },
  {
   "cell_type": "code",
   "execution_count": null,
   "id": "a9edd114",
   "metadata": {},
   "outputs": [],
   "source": []
  }
 ],
 "metadata": {
  "kernelspec": {
   "display_name": "Python 3 (ipykernel)",
   "language": "python",
   "name": "python3"
  },
  "language_info": {
   "codemirror_mode": {
    "name": "ipython",
    "version": 3
   },
   "file_extension": ".py",
   "mimetype": "text/x-python",
   "name": "python",
   "nbconvert_exporter": "python",
   "pygments_lexer": "ipython3",
   "version": "3.11.4"
  }
 },
 "nbformat": 4,
 "nbformat_minor": 5
}
